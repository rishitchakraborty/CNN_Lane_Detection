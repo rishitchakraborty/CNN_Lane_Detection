{
  "nbformat": 4,
  "nbformat_minor": 0,
  "metadata": {
    "colab": {
      "name": "CNN_Lane_detection.ipynb",
      "provenance": []
    },
    "kernelspec": {
      "name": "python3",
      "display_name": "Python 3"
    },
    "language_info": {
      "name": "python"
    },
    "accelerator": "GPU"
  },
  "cells": [
    {
      "cell_type": "code",
      "execution_count": 17,
      "metadata": {
        "colab": {
          "base_uri": "https://localhost:8080/"
        },
        "id": "jKyei3L4NEG0",
        "outputId": "10a7cc48-3c60-4b0f-863b-a346ebb35706"
      },
      "outputs": [
        {
          "output_type": "stream",
          "name": "stdout",
          "text": [
            "Setup complete. Using torch 1.10.0+cu111 (Tesla T4)\n"
          ]
        }
      ],
      "source": [
        "!git clone https://github.com/ultralytics/yolov5  # clone repo\n",
        "%cd yolov5\n",
        "%pip install -qr requirements.txt  # install dependencies\n",
        "\n",
        "import torch\n",
        "from IPython.display import Image, clear_output  # to display images\n",
        "\n",
        "clear_output()\n",
        "print(f\"Setup complete. Using torch {torch.__version__} ({torch.cuda.get_device_properties(0).name if torch.cuda.is_available() else 'CPU'})\")"
      ]
    },
    {
      "cell_type": "code",
      "source": [
        "# Let us train the yolo v5 \n",
        "!python train.py --img 640 --batch 16 --epochs 600 --data /content/yolov5/data/coco128.yaml --weights yolov5l.pt --nosave --cache"
      ],
      "metadata": {
        "colab": {
          "base_uri": "https://localhost:8080/"
        },
        "id": "AaWuIHusNO7S",
        "outputId": "1bb4651e-cdb7-460b-da65-70595aba9cfd"
      },
      "execution_count": null,
      "outputs": [
        {
          "output_type": "stream",
          "name": "stdout",
          "text": [
            "     2/599     9.59G   0.03697   0.05666   0.01183       281       640: 100% 8/8 [00:40<00:00,  5.09s/it]\n",
            "               Class     Images     Labels          P          R     mAP@.5 mAP@.5:.95: 100% 4/4 [00:09<00:00,  2.47s/it]\n",
            "                 all        128        929      0.809       0.73      0.823       0.61\n",
            "\n",
            "     Epoch   gpu_mem       box       obj       cls    labels  img_size\n",
            "     3/599     9.59G   0.03636   0.05284   0.01033       251       640:  50% 4/8 [00:20<00:20,  5.09s/it]^C\n"
          ]
        }
      ]
    },
    {
      "cell_type": "code",
      "source": [
        "!python detect.py --weights /content/yolov5/runs/train/exp/weights/last.pt --img 640 --conf 0.25 --source /content/TEST_VIDEO2.mp4"
      ],
      "metadata": {
        "id": "MPYq5CBBNvqv"
      },
      "execution_count": null,
      "outputs": []
    },
    {
      "cell_type": "code",
      "source": [
        "!git clone https://github.com/mvirgo/MLND-Capstone"
      ],
      "metadata": {
        "id": "8RY7EN9cNlFy",
        "colab": {
          "base_uri": "https://localhost:8080/"
        },
        "outputId": "be8ede3a-b324-4a20-f971-af31d34af74c"
      },
      "execution_count": 1,
      "outputs": [
        {
          "output_type": "stream",
          "name": "stdout",
          "text": [
            "Cloning into 'MLND-Capstone'...\n",
            "remote: Enumerating objects: 301, done.\u001b[K\n",
            "remote: Counting objects: 100% (8/8), done.\u001b[K\n",
            "remote: Compressing objects: 100% (8/8), done.\u001b[K\n",
            "remote: Total 301 (delta 1), reused 3 (delta 0), pack-reused 293\u001b[K\n",
            "Receiving objects: 100% (301/301), 26.06 MiB | 23.91 MiB/s, done.\n",
            "Resolving deltas: 100% (146/146), done.\n"
          ]
        }
      ]
    },
    {
      "cell_type": "code",
      "source": [
        "%cd MLND-Capstone"
      ],
      "metadata": {
        "colab": {
          "base_uri": "https://localhost:8080/"
        },
        "id": "-s2lpfeuTfRM",
        "outputId": "82b32c0a-4023-43fa-9db5-fe710cbb6c5c"
      },
      "execution_count": 2,
      "outputs": [
        {
          "output_type": "stream",
          "name": "stdout",
          "text": [
            "/content/MLND-Capstone\n"
          ]
        }
      ]
    },
    {
      "cell_type": "code",
      "source": [
        "%pip install -qr requirements.txt"
      ],
      "metadata": {
        "id": "wigWG23LUFnn"
      },
      "execution_count": 3,
      "outputs": []
    },
    {
      "cell_type": "code",
      "source": [
        "import torch\n",
        "from IPython.display import Image, clear_output  # to display images\n",
        "\n",
        "clear_output()\n",
        "print(f\"Setup complete. Using torch {torch.__version__} ({torch.cuda.get_device_properties(0).name if torch.cuda.is_available() else 'CPU'})\")"
      ],
      "metadata": {
        "colab": {
          "base_uri": "https://localhost:8080/"
        },
        "id": "K5zSBh8XUmXl",
        "outputId": "fa3256ca-360c-4995-8e57-19215abfb3f6"
      },
      "execution_count": 10,
      "outputs": [
        {
          "output_type": "stream",
          "name": "stdout",
          "text": [
            "Setup complete. Using torch 1.10.0+cu111 (Tesla T4)\n"
          ]
        }
      ]
    },
    {
      "cell_type": "code",
      "source": [
        "!python draw_detected_lanes.py"
      ],
      "metadata": {
        "colab": {
          "base_uri": "https://localhost:8080/"
        },
        "id": "ZiO9f7fdUxpX",
        "outputId": "4f391bc8-0208-419b-cdec-6c8d64a1c857"
      },
      "execution_count": 4,
      "outputs": [
        {
          "output_type": "stream",
          "name": "stdout",
          "text": [
            "2022-01-13 08:17:11.224059: W tensorflow/core/common_runtime/gpu/gpu_bfc_allocator.cc:39] Overriding allow_growth setting because the TF_FORCE_GPU_ALLOW_GROWTH environment variable is set. Original config value was 0.\n",
            "[MoviePy] >>>> Building video proj_reg_vid.mp4\n",
            "[MoviePy] Writing video proj_reg_vid.mp4\n",
            "100% 18777/18777 [30:35<00:00, 10.23it/s]\n",
            "[MoviePy] Done.\n",
            "[MoviePy] >>>> Video ready: proj_reg_vid.mp4 \n",
            "\n"
          ]
        }
      ]
    }
  ]
}